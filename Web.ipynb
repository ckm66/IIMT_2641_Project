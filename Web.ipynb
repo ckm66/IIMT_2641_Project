{
 "cells": [
  {
   "cell_type": "code",
   "execution_count": 1,
   "metadata": {},
   "outputs": [],
   "source": [
    "from WebScrapyEngine import WebScrapy\n",
    "from selenium.webdriver.common.by import By\n",
    "from selenium import webdriver\n",
    "from dotenv import load_dotenv\n",
    "load_dotenv()\n",
    "import os"
   ]
  },
  {
   "cell_type": "code",
   "execution_count": 2,
   "metadata": {},
   "outputs": [],
   "source": [
    "chrome_options = webdriver.ChromeOptions()\n",
    "prefs = {\"profile.managed_default_content_settings.images\": 2}\n",
    "chrome_options.add_experimental_option(\"prefs\", prefs)\n",
    "driver = webdriver.Chrome(options=chrome_options)"
   ]
  },
  {
   "cell_type": "code",
   "execution_count": 3,
   "metadata": {},
   "outputs": [],
   "source": [
    "driver.get(\"https://www.artsy.net/auction-result/4495119\")\n",
    "user_name = driver.find_element(By.CSS_SELECTOR, \"input[type='email'][name='email'][placeholder='Enter your email address']\")\n",
    "user_name.send_keys(os.getenv(\"REGISTERED_EMAIL\"))\n",
    "\n",
    "user_password = driver.find_element(By.CSS_SELECTOR, \"input[type='password'][name='password'][placeholder='Enter your password']\")\n",
    "user_password.send_keys(os.getenv(\"REGISTERED_PASSWORD\"))\n",
    "\n",
    "login_button = driver.find_element(By.CSS_SELECTOR, \"button[type='submit']\")\n",
    "login_button.click()"
   ]
  },
  {
   "cell_type": "code",
   "execution_count": 11,
   "metadata": {},
   "outputs": [
    {
     "name": "stdout",
     "output_type": "stream",
     "text": [
      "US$6,000–US$8,000\n",
      "oil on canvas\n",
      "99 x 91 cm\n",
      "Jan 21, 2017\n",
      "David Dike Fine Art\n",
      "Dallas\n",
      "Texas Art Auction\n",
      "251\n"
     ]
    }
   ],
   "source": [
    "information_list = driver.find_elements(By.CSS_SELECTOR, 'div[class=\"Box-sc-15se88d-0 Text-sc-18gcpao-0 beZDFY dhuDbU\"]')\n",
    "\n",
    "if (len(information_list) == 0):\n",
    "    information_list = driver.find_elements(By.CSS_SELECTOR, 'div[class=\"Box-sc-15se88d-0 Text-sc-18gcpao-0 MyCollectionArtworkSidebarMetadata__WrappedText-sc-5mms7r-0 eXbAnU jYhtRb cqzlmg\"]')\n",
    "for item in information_list:\n",
    "    print(item.text)\n",
    "    "
   ]
  }
 ],
 "metadata": {
  "kernelspec": {
   "display_name": ".vene",
   "language": "python",
   "name": "python3"
  },
  "language_info": {
   "codemirror_mode": {
    "name": "ipython",
    "version": 3
   },
   "file_extension": ".py",
   "mimetype": "text/x-python",
   "name": "python",
   "nbconvert_exporter": "python",
   "pygments_lexer": "ipython3",
   "version": "3.11.6"
  }
 },
 "nbformat": 4,
 "nbformat_minor": 2
}
