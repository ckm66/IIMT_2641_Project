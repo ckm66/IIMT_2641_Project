{
 "cells": [
  {
   "cell_type": "code",
   "execution_count": 1,
   "metadata": {},
   "outputs": [
    {
     "data": {
      "text/plain": [
       "True"
      ]
     },
     "execution_count": 1,
     "metadata": {},
     "output_type": "execute_result"
    }
   ],
   "source": [
    "from selenium import webdriver\n",
    "from selenium.webdriver.common.by import By\n",
    "import time\n",
    "import os\n",
    "from dotenv import load_dotenv\n",
    "load_dotenv()"
   ]
  },
  {
   "cell_type": "code",
   "execution_count": 2,
   "metadata": {},
   "outputs": [],
   "source": [
    "chrome_options = webdriver.ChromeOptions()\n",
    "prefs = {\"profile.managed_default_content_settings.images\": 2}\n",
    "chrome_options.add_experimental_option(\"prefs\", prefs)\n",
    "driver = webdriver.Chrome(options=chrome_options)"
   ]
  },
  {
   "cell_type": "code",
   "execution_count": 3,
   "metadata": {},
   "outputs": [],
   "source": [
    "driver.get(\"https://www.artsy.net/auction-result/4725374\")"
   ]
  },
  {
   "cell_type": "code",
   "execution_count": 4,
   "metadata": {},
   "outputs": [],
   "source": [
    "user_name = driver.find_element(By.CSS_SELECTOR, \"input[type='email'][name='email'][placeholder='Enter your email address'][class='Input__StyledInput-bysdh7-0 cghdAZ']\")\n",
    "user_name.send_keys(os.getenv(\"REGISTER_EMAIL\"))\n",
    "\n",
    "user_password = driver.find_element(By.CSS_SELECTOR, \"input[type='password'][name='password'][placeholder='Enter your password'][class='Input__StyledInput-bysdh7-0 cghdAZ']\")\n",
    "user_password.send_keys(os.getenv(\"PASSWORD\"))\n",
    "\n"
   ]
  },
  {
   "cell_type": "code",
   "execution_count": 5,
   "metadata": {},
   "outputs": [],
   "source": [
    "login_button = driver.find_element(By.CSS_SELECTOR, \"button[type='submit'][class='Button__Container-sc-1bhxy1c-0 gMKEFL']\")\n",
    "login_button.click()"
   ]
  },
  {
   "cell_type": "code",
   "execution_count": 8,
   "metadata": {},
   "outputs": [
    {
     "name": "stdout",
     "output_type": "stream",
     "text": [
      "Paesaggio\n"
     ]
    }
   ],
   "source": [
    "artwork_name = driver.find_element(By.CSS_SELECTOR, 'h1.Box-sc-15se88d-0.Text-sc-18gcpao-0.OfSrA.gyuZDD[font-family=\"sans\"]')\n",
    "print(artwork_name.text)"
   ]
  }
 ],
 "metadata": {
  "kernelspec": {
   "display_name": ".vene",
   "language": "python",
   "name": "python3"
  },
  "language_info": {
   "codemirror_mode": {
    "name": "ipython",
    "version": 3
   },
   "file_extension": ".py",
   "mimetype": "text/x-python",
   "name": "python",
   "nbconvert_exporter": "python",
   "pygments_lexer": "ipython3",
   "version": "3.11.6"
  }
 },
 "nbformat": 4,
 "nbformat_minor": 2
}
